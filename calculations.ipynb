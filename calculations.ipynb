{
 "cells": [
  {
   "cell_type": "code",
   "execution_count": 2,
   "id": "a2c31d17",
   "metadata": {},
   "outputs": [],
   "source": [
    "import numpy as np\n",
    "import sympy as sp\n",
    "import matplotlib.pyplot as plt"
   ]
  },
  {
   "cell_type": "code",
   "execution_count": 2,
   "id": "af557ff1",
   "metadata": {},
   "outputs": [
    {
     "data": {
      "text/latex": [
       "$\\displaystyle \\left[\\begin{matrix}4 & 2 & 1 & -2 & 3\\\\0 & -18 & -7 & 2 & -1\\\\0 & 0 & 80 & -208 & 176\\\\0 & 0 & 0 & -14976 & 6912\\end{matrix}\\right]$"
      ],
      "text/plain": [
       "Matrix([\n",
       "[4,   2,  1,     -2,    3],\n",
       "[0, -18, -7,      2,   -1],\n",
       "[0,   0, 80,   -208,  176],\n",
       "[0,   0,  0, -14976, 6912]])"
      ]
     },
     "execution_count": 2,
     "metadata": {},
     "output_type": "execute_result"
    }
   ],
   "source": [
    "# Echelon form for a matrix to solve linear problems.\n",
    "linear = sp.Matrix([\n",
    "                    [4,  2,  1,  -2,  3],\n",
    "                    [3, -3, -1,  -1,  2],\n",
    "                    [3,  5,  1,   1,  0],\n",
    "                    [1, -1, -1,   4, -2]\n",
    "                    ])\n",
    "\n",
    "\n",
    "# Reduced row echelon form (Gauss Elimination).\n",
    "linear.echelon_form()"
   ]
  },
  {
   "cell_type": "code",
   "execution_count": 3,
   "id": "02356197",
   "metadata": {},
   "outputs": [
    {
     "name": "stdout",
     "output_type": "stream",
     "text": [
      "-13/6\n"
     ]
    }
   ],
   "source": [
    "# We can now find the results by calculating the last row, where  x = a54 / a44.\n",
    "print(linear.echelon_form()[-2] / linear.echelon_form()[-1])"
   ]
  },
  {
   "cell_type": "code",
   "execution_count": 4,
   "id": "d1a10c72",
   "metadata": {},
   "outputs": [
    {
     "data": {
      "text/latex": [
       "$\\displaystyle \\left[\\begin{matrix}1 & 0 & 0 & 0 & \\frac{6}{13}\\\\0 & 1 & 0 & 0 & - \\frac{5}{13}\\\\0 & 0 & 1 & 0 & 1\\\\0 & 0 & 0 & 1 & - \\frac{6}{13}\\end{matrix}\\right]$"
      ],
      "text/plain": [
       "Matrix([\n",
       "[1, 0, 0, 0,  6/13],\n",
       "[0, 1, 0, 0, -5/13],\n",
       "[0, 0, 1, 0,     1],\n",
       "[0, 0, 0, 1, -6/13]])"
      ]
     },
     "execution_count": 4,
     "metadata": {},
     "output_type": "execute_result"
    }
   ],
   "source": [
    "# Echelon form for a matrix to solve linear problems (last column is the result)\n",
    "linear = sp.Matrix([\n",
    "                    [4,  2,  1,  -2,  3],\n",
    "                    [3, -3, -1,  -1,  2],\n",
    "                    [3,  5,  1,   1,  0],\n",
    "                    [1, -1, -1,   4, -2]\n",
    "                    ])\n",
    "\n",
    "\n",
    "# Reduced row echelon form (Gauss-Jordan)\n",
    "linear.rref()[0]"
   ]
  },
  {
   "cell_type": "code",
   "execution_count": null,
   "id": "21c4dd40",
   "metadata": {},
   "outputs": [
    {
     "data": {
      "text/latex": [
       "$\\displaystyle \\left[\\begin{matrix}1 & 1 & 2\\\\0 & 0 & 0\\end{matrix}\\right]$"
      ],
      "text/plain": [
       "Matrix([\n",
       "[1, 1, 2],\n",
       "[0, 0, 0]])"
      ]
     },
     "execution_count": 5,
     "metadata": {},
     "output_type": "execute_result"
    }
   ],
   "source": [
    "# With infinite results\n",
    "multiple = sp.Matrix([\n",
    "    [1, 1, 2],\n",
    "    [2, 2, 4]\n",
    "])\n",
    "\n",
    "# Result. There result of the second equation or the second array / vector is zero. \n",
    "multiple.rref()[0]"
   ]
  },
  {
   "cell_type": "code",
   "execution_count": 55,
   "id": "55dfb2b8",
   "metadata": {},
   "outputs": [
    {
     "data": {
      "text/latex": [
       "$\\displaystyle \\left[\\begin{matrix}1 & 0 & 0\\\\0 & 1 & 0\\\\0 & 0 & 1\\end{matrix}\\right]$"
      ],
      "text/plain": [
       "Matrix([\n",
       "[1, 0, 0],\n",
       "[0, 1, 0],\n",
       "[0, 0, 1]])"
      ]
     },
     "execution_count": 55,
     "metadata": {},
     "output_type": "execute_result"
    }
   ],
   "source": [
    "# With inconsistant system. As we can see, 0x + 0y = 1, so 0 = 1. Thus, x + y = 0,\n",
    "multiple = sp.Matrix([\n",
    "    [1, 1, 1],\n",
    "    [1, 2, 3],\n",
    "    [1, 4, 9]\n",
    "])\n",
    "\n",
    "# Result. There result of the second equation or the second array / vector is zero. \n",
    "multiple.rref()[0]"
   ]
  },
  {
   "cell_type": "code",
   "execution_count": null,
   "id": "d456b1f0",
   "metadata": {},
   "outputs": [
    {
     "name": "stdout",
     "output_type": "stream",
     "text": [
      "20\n"
     ]
    }
   ],
   "source": [
    "# Create two vectors.\n",
    "a = np.array([4, 2]) # 1 in x and 2 in y\n",
    "b = np.array([4, 8]) # 4 in x and 8 in y. NOTE that b = 4 * a. Therefore the a is an eigenvector and 4 is the eigenvalue.  \n",
    "\n",
    "# Dot product. If two arrays are given, the matrix multiplication is done instead of dot product. The dot product iteself doesn't represents anything. \n",
    "dot_product = np.dot(a, b)\n",
    "\n",
    "# Print\n",
    "print(dot_product)"
   ]
  },
  {
   "cell_type": "code",
   "execution_count": 163,
   "id": "6a0c27a0",
   "metadata": {},
   "outputs": [
    {
     "name": "stdout",
     "output_type": "stream",
     "text": [
      "Norm of vector a: 2.23606797749979.\n",
      "Norm of vector b: 8.94427190999916.\n",
      "Multipling the eigenvalue by the norm a: 8.94427190999916.\n"
     ]
    }
   ],
   "source": [
    "# Euclidean (L2) distance size of each vector. Order = 2 (from L2).\n",
    "norma = np.linalg.norm(a, ord=2)\n",
    "normb = np.linalg.norm(b, ord=2)\n",
    "\n",
    "# Print\n",
    "print(f\"Norm of vector a: {norma}.\")\n",
    "print(f\"Norm of vector b: {normb}.\")\n",
    "print(f\"Multipling the eigenvalue by the norm a: {4 * norma}.\")"
   ]
  },
  {
   "cell_type": "code",
   "execution_count": null,
   "id": "02ab5dac",
   "metadata": {},
   "outputs": [
    {
     "name": "stdout",
     "output_type": "stream",
     "text": [
      "0.9999999999999998\n",
      "0.0\n",
      "0.0\n"
     ]
    }
   ],
   "source": [
    "# Cos theta,  both are colinear because their cosine is 1, therefore the angle is 0° or 0 rad, since CA / H = x/x = 1, this only occours when CO = 0.\n",
    "cos_theta = (np.dot(a, b)) /( norma * normb)\n",
    "\n",
    "# Theta in radius.\n",
    "rad_theta = round(np.arccos(cos_theta), 2)\n",
    "\n",
    "# Theta in degrees.\n",
    "deg_theta = round(np.degrees(rad_theta), 2)\n",
    "\n",
    "# Print\n",
    "print(cos_theta)\n",
    "print(rad_theta)\n",
    "print(deg_theta)"
   ]
  },
  {
   "cell_type": "markdown",
   "id": "c8213e98",
   "metadata": {},
   "source": [
    "Orthogonals."
   ]
  },
  {
   "cell_type": "code",
   "execution_count": 173,
   "id": "e3cf6ee6",
   "metadata": {},
   "outputs": [
    {
     "name": "stdout",
     "output_type": "stream",
     "text": [
      "0\n"
     ]
    }
   ],
   "source": [
    "# Create two vectors.\n",
    "a = np.array([3, 4])\n",
    "b = np.array([-8, 6])\n",
    "\n",
    "# Dot product. If two arrays are given, the matrix multiplication is done instead of dot product. The dot product iteself doesn't represents anything. \n",
    "dot_product = np.dot(a, b)\n",
    "\n",
    "# Print. Result is 0 because they are ortogonals.\n",
    "print(dot_product)"
   ]
  },
  {
   "cell_type": "code",
   "execution_count": 174,
   "id": "d08dbb9a",
   "metadata": {},
   "outputs": [
    {
     "name": "stdout",
     "output_type": "stream",
     "text": [
      "Norm of vector a: 5.0.\n",
      "Norm of vector b: 10.0.\n"
     ]
    }
   ],
   "source": [
    "# Euclidean (L2) distance size of each vector. Order = 2 (from L2).\n",
    "norma = np.linalg.norm(a, ord=2)\n",
    "normb = np.linalg.norm(b, ord=2)\n",
    "\n",
    "# Print\n",
    "print(f\"Norm of vector a: {norma}.\")\n",
    "print(f\"Norm of vector b: {normb}.\")"
   ]
  },
  {
   "cell_type": "code",
   "execution_count": 177,
   "id": "de4a7141",
   "metadata": {},
   "outputs": [
    {
     "name": "stdout",
     "output_type": "stream",
     "text": [
      "0.0\n",
      "1.57\n",
      "89.95\n"
     ]
    }
   ],
   "source": [
    "# Cos theta,  both are colinear because their cosine is 1, therefore the angle is 0° or 0 rad, since CA / H = x/x = 1, this only occours when CO = 0.\n",
    "cos_theta = (np.dot(a, b)) /(norma * normb)\n",
    "\n",
    "# Theta in radius.\n",
    "rad_theta = round(np.arccos(cos_theta), 2)\n",
    "\n",
    "# Theta in degrees.\n",
    "deg_theta = round(np.degrees(rad_theta), 2)\n",
    "\n",
    "# Print\n",
    "print(cos_theta)\n",
    "print(rad_theta)\n",
    "print(deg_theta)"
   ]
  },
  {
   "cell_type": "markdown",
   "id": "e19a227f",
   "metadata": {},
   "source": [
    "Projection."
   ]
  },
  {
   "cell_type": "code",
   "execution_count": null,
   "id": "83ee3ce0",
   "metadata": {},
   "outputs": [
    {
     "name": "stdout",
     "output_type": "stream",
     "text": [
      "[4. 2.]\n",
      "5\n"
     ]
    }
   ],
   "source": [
    "# Create two vectors.\n",
    "a = np.array([2, 1])\n",
    "b = np.array([3, 4])\n",
    "\n",
    "dotab = np.dot(a, b)\n",
    "\n",
    "dotaa = np.dot(a,a)\n",
    "\n",
    "proj = (dotab / dotaa) * a \n",
    "\n",
    "\n",
    "print(proj)"
   ]
  },
  {
   "cell_type": "code",
   "execution_count": null,
   "id": "6a571840",
   "metadata": {},
   "outputs": [
    {
     "name": "stdout",
     "output_type": "stream",
     "text": [
      "[-4.66666667  4.33333333]\n"
     ]
    }
   ],
   "source": [
    "# Create vector and find it in the new base Bnew.\n",
    "a = np.array([3, 4])\n",
    "B_new = np.array([\n",
    "    [4, 5],\n",
    "    [1, 2]\n",
    "])\n",
    "\n",
    "# Bnew Vb = Vc -> Vb = Bnew^-1 Vc\n",
    "Bnew_invers = np.linalg.inv(B_new)\n",
    "\n",
    "# Calculating new vector\n",
    "a_new = Bnew_invers @ a\n",
    "\n",
    "print(a_new)"
   ]
  },
  {
   "cell_type": "code",
   "execution_count": 15,
   "id": "11c20fb0",
   "metadata": {},
   "outputs": [
    {
     "name": "stdout",
     "output_type": "stream",
     "text": [
      "155.0\n",
      "[[26 25]\n",
      " [25 30]]\n"
     ]
    }
   ],
   "source": [
    "M = np.array([\n",
    "    [4, 5],\n",
    "    [1, 2],\n",
    "    [3, 1]\n",
    "])\n",
    "\n",
    "M = M.T @ M\n",
    "\n",
    "det_M = round(np.linalg.det(M), 4)\n",
    "\n",
    "print(det_M)\n",
    "print(M)"
   ]
  },
  {
   "cell_type": "code",
   "execution_count": 25,
   "id": "725525aa",
   "metadata": {},
   "outputs": [
    {
     "name": "stdout",
     "output_type": "stream",
     "text": [
      "0.0\n",
      "[[ 5 20]\n",
      " [20 80]]\n"
     ]
    }
   ],
   "source": [
    "Z = np.array([\n",
    "    [1, 4],\n",
    "    [2, 8]\n",
    "])\n",
    "\n",
    "t = Z.T @ Z\n",
    "\n",
    "det_Z = np.linalg.det(Z)\n",
    "\n",
    "print(det_Z)\n",
    "print(t)"
   ]
  }
 ],
 "metadata": {
  "kernelspec": {
   "display_name": "base",
   "language": "python",
   "name": "python3"
  },
  "language_info": {
   "codemirror_mode": {
    "name": "ipython",
    "version": 3
   },
   "file_extension": ".py",
   "mimetype": "text/x-python",
   "name": "python",
   "nbconvert_exporter": "python",
   "pygments_lexer": "ipython3",
   "version": "3.12.7"
  }
 },
 "nbformat": 4,
 "nbformat_minor": 5
}
